{
 "cells": [
  {
   "cell_type": "code",
   "execution_count": 1,
   "metadata": {},
   "outputs": [],
   "source": [
    "#Decision Tree\n",
    " \n",
    "#Assignment\n",
    "\n",
    "\n",
    "#About the data: \n",
    "#Let’s consider a Company dataset with around 10 variables and 400 records.\n",
    "\n",
    "#The attributes are as follows: \n",
    "    \n",
    "# Sales -- Unit sales (in thousands) at each location\n",
    "\n",
    "# Competitor Price -- Price charged by competitor at each location\n",
    "\n",
    "# Income -- Community income level (in thousands of dollars)\n",
    "\n",
    "# Advertising -- Local advertising budget for company at each location (in thousands of dollars)\n",
    "\n",
    "# Population -- Population size in region (in thousands)\n",
    "\n",
    "# Price -- Price company charges for car seats at each site\n",
    "\n",
    "# Shelf Location at stores -- A factor with levels Bad, Good and Medium indicating the quality of the shelving location for the car seats at each site\n",
    "\n",
    "# Age -- Average age of the local population\n",
    "\n",
    "# Education -- Education level at each location\n",
    "\n",
    "# Urban -- A factor with levels No and Yes to indicate whether the store is in an urban or rural location\n",
    "\n",
    "# US -- A factor with levels No and Yes to indicate whether the store is in the US or not\n",
    "\n",
    "#The company dataset looks like this: \n",
    " \n",
    "#Problem Statement:\n",
    "    \n",
    "#A cloth manufacturing company is interested to know about the segment or attributes causes high sale. \n",
    "\n",
    "#Approach - A decision tree can be built with target variable Sale (we will first convert it in categorical variable) & all other variable will be independent in the analysis."
   ]
  },
  {
   "cell_type": "code",
   "execution_count": 2,
   "metadata": {},
   "outputs": [],
   "source": [
    "import pandas as pd\n",
    "import numpy as np\n",
    "import matplotlib.pyplot as plt\n",
    "%matplotlib inline"
   ]
  },
  {
   "cell_type": "code",
   "execution_count": 3,
   "metadata": {},
   "outputs": [
    {
     "data": {
      "text/html": [
       "<div>\n",
       "<style scoped>\n",
       "    .dataframe tbody tr th:only-of-type {\n",
       "        vertical-align: middle;\n",
       "    }\n",
       "\n",
       "    .dataframe tbody tr th {\n",
       "        vertical-align: top;\n",
       "    }\n",
       "\n",
       "    .dataframe thead th {\n",
       "        text-align: right;\n",
       "    }\n",
       "</style>\n",
       "<table border=\"1\" class=\"dataframe\">\n",
       "  <thead>\n",
       "    <tr style=\"text-align: right;\">\n",
       "      <th></th>\n",
       "      <th>Sales</th>\n",
       "      <th>CompPrice</th>\n",
       "      <th>Income</th>\n",
       "      <th>Advertising</th>\n",
       "      <th>Population</th>\n",
       "      <th>Price</th>\n",
       "      <th>ShelveLoc</th>\n",
       "      <th>Age</th>\n",
       "      <th>Education</th>\n",
       "      <th>Urban</th>\n",
       "      <th>US</th>\n",
       "    </tr>\n",
       "  </thead>\n",
       "  <tbody>\n",
       "    <tr>\n",
       "      <th>0</th>\n",
       "      <td>9.50</td>\n",
       "      <td>138</td>\n",
       "      <td>73</td>\n",
       "      <td>11</td>\n",
       "      <td>276</td>\n",
       "      <td>120</td>\n",
       "      <td>Bad</td>\n",
       "      <td>42</td>\n",
       "      <td>17</td>\n",
       "      <td>Yes</td>\n",
       "      <td>Yes</td>\n",
       "    </tr>\n",
       "    <tr>\n",
       "      <th>1</th>\n",
       "      <td>11.22</td>\n",
       "      <td>111</td>\n",
       "      <td>48</td>\n",
       "      <td>16</td>\n",
       "      <td>260</td>\n",
       "      <td>83</td>\n",
       "      <td>Good</td>\n",
       "      <td>65</td>\n",
       "      <td>10</td>\n",
       "      <td>Yes</td>\n",
       "      <td>Yes</td>\n",
       "    </tr>\n",
       "    <tr>\n",
       "      <th>2</th>\n",
       "      <td>10.06</td>\n",
       "      <td>113</td>\n",
       "      <td>35</td>\n",
       "      <td>10</td>\n",
       "      <td>269</td>\n",
       "      <td>80</td>\n",
       "      <td>Medium</td>\n",
       "      <td>59</td>\n",
       "      <td>12</td>\n",
       "      <td>Yes</td>\n",
       "      <td>Yes</td>\n",
       "    </tr>\n",
       "    <tr>\n",
       "      <th>3</th>\n",
       "      <td>7.40</td>\n",
       "      <td>117</td>\n",
       "      <td>100</td>\n",
       "      <td>4</td>\n",
       "      <td>466</td>\n",
       "      <td>97</td>\n",
       "      <td>Medium</td>\n",
       "      <td>55</td>\n",
       "      <td>14</td>\n",
       "      <td>Yes</td>\n",
       "      <td>Yes</td>\n",
       "    </tr>\n",
       "  </tbody>\n",
       "</table>\n",
       "</div>"
      ],
      "text/plain": [
       "   Sales  CompPrice  Income  Advertising  Population  Price ShelveLoc  Age  \\\n",
       "0   9.50        138      73           11         276    120       Bad   42   \n",
       "1  11.22        111      48           16         260     83      Good   65   \n",
       "2  10.06        113      35           10         269     80    Medium   59   \n",
       "3   7.40        117     100            4         466     97    Medium   55   \n",
       "\n",
       "   Education Urban   US  \n",
       "0         17   Yes  Yes  \n",
       "1         10   Yes  Yes  \n",
       "2         12   Yes  Yes  \n",
       "3         14   Yes  Yes  "
      ]
     },
     "execution_count": 3,
     "metadata": {},
     "output_type": "execute_result"
    }
   ],
   "source": [
    "st=pd.read_csv(\"E:\\\\Excelr\\\\Assignments\\\\Assignments DS\\\\Decision Tree\\\\Company_Data.csv\")\n",
    "st.head(4)"
   ]
  },
  {
   "cell_type": "code",
   "execution_count": 4,
   "metadata": {},
   "outputs": [
    {
     "data": {
      "text/plain": [
       "(400, 11)"
      ]
     },
     "execution_count": 4,
     "metadata": {},
     "output_type": "execute_result"
    }
   ],
   "source": [
    "st.shape"
   ]
  },
  {
   "cell_type": "code",
   "execution_count": 5,
   "metadata": {},
   "outputs": [
    {
     "data": {
      "text/plain": [
       "count    400.000000\n",
       "mean       7.496325\n",
       "std        2.824115\n",
       "min        0.000000\n",
       "25%        5.390000\n",
       "50%        7.490000\n",
       "75%        9.320000\n",
       "max       16.270000\n",
       "Name: Sales, dtype: float64"
      ]
     },
     "execution_count": 5,
     "metadata": {},
     "output_type": "execute_result"
    }
   ],
   "source": [
    "st['Sales'].describe()"
   ]
  },
  {
   "cell_type": "code",
   "execution_count": 6,
   "metadata": {},
   "outputs": [],
   "source": [
    "#Converting the sales column into categorical variable\n",
    "sales_val = []\n",
    "for value in st[\"Sales\"]:\n",
    "    if value<=7.40:\n",
    "        sales_val.append(\"low\")\n",
    "    else:\n",
    "        sales_val.append(\"high\")\n",
    "        \n",
    "st[\"sales_val\"]= sales_val"
   ]
  },
  {
   "cell_type": "code",
   "execution_count": 7,
   "metadata": {},
   "outputs": [
    {
     "data": {
      "text/html": [
       "<div>\n",
       "<style scoped>\n",
       "    .dataframe tbody tr th:only-of-type {\n",
       "        vertical-align: middle;\n",
       "    }\n",
       "\n",
       "    .dataframe tbody tr th {\n",
       "        vertical-align: top;\n",
       "    }\n",
       "\n",
       "    .dataframe thead th {\n",
       "        text-align: right;\n",
       "    }\n",
       "</style>\n",
       "<table border=\"1\" class=\"dataframe\">\n",
       "  <thead>\n",
       "    <tr style=\"text-align: right;\">\n",
       "      <th></th>\n",
       "      <th>Sales</th>\n",
       "      <th>CompPrice</th>\n",
       "      <th>Income</th>\n",
       "      <th>Advertising</th>\n",
       "      <th>Population</th>\n",
       "      <th>Price</th>\n",
       "      <th>ShelveLoc</th>\n",
       "      <th>Age</th>\n",
       "      <th>Education</th>\n",
       "      <th>Urban</th>\n",
       "      <th>US</th>\n",
       "      <th>sales_val</th>\n",
       "    </tr>\n",
       "  </thead>\n",
       "  <tbody>\n",
       "    <tr>\n",
       "      <th>0</th>\n",
       "      <td>9.50</td>\n",
       "      <td>138</td>\n",
       "      <td>73</td>\n",
       "      <td>11</td>\n",
       "      <td>276</td>\n",
       "      <td>120</td>\n",
       "      <td>Bad</td>\n",
       "      <td>42</td>\n",
       "      <td>17</td>\n",
       "      <td>Yes</td>\n",
       "      <td>Yes</td>\n",
       "      <td>high</td>\n",
       "    </tr>\n",
       "    <tr>\n",
       "      <th>1</th>\n",
       "      <td>11.22</td>\n",
       "      <td>111</td>\n",
       "      <td>48</td>\n",
       "      <td>16</td>\n",
       "      <td>260</td>\n",
       "      <td>83</td>\n",
       "      <td>Good</td>\n",
       "      <td>65</td>\n",
       "      <td>10</td>\n",
       "      <td>Yes</td>\n",
       "      <td>Yes</td>\n",
       "      <td>high</td>\n",
       "    </tr>\n",
       "    <tr>\n",
       "      <th>2</th>\n",
       "      <td>10.06</td>\n",
       "      <td>113</td>\n",
       "      <td>35</td>\n",
       "      <td>10</td>\n",
       "      <td>269</td>\n",
       "      <td>80</td>\n",
       "      <td>Medium</td>\n",
       "      <td>59</td>\n",
       "      <td>12</td>\n",
       "      <td>Yes</td>\n",
       "      <td>Yes</td>\n",
       "      <td>high</td>\n",
       "    </tr>\n",
       "    <tr>\n",
       "      <th>3</th>\n",
       "      <td>7.40</td>\n",
       "      <td>117</td>\n",
       "      <td>100</td>\n",
       "      <td>4</td>\n",
       "      <td>466</td>\n",
       "      <td>97</td>\n",
       "      <td>Medium</td>\n",
       "      <td>55</td>\n",
       "      <td>14</td>\n",
       "      <td>Yes</td>\n",
       "      <td>Yes</td>\n",
       "      <td>low</td>\n",
       "    </tr>\n",
       "    <tr>\n",
       "      <th>4</th>\n",
       "      <td>4.15</td>\n",
       "      <td>141</td>\n",
       "      <td>64</td>\n",
       "      <td>3</td>\n",
       "      <td>340</td>\n",
       "      <td>128</td>\n",
       "      <td>Bad</td>\n",
       "      <td>38</td>\n",
       "      <td>13</td>\n",
       "      <td>Yes</td>\n",
       "      <td>No</td>\n",
       "      <td>low</td>\n",
       "    </tr>\n",
       "    <tr>\n",
       "      <th>5</th>\n",
       "      <td>10.81</td>\n",
       "      <td>124</td>\n",
       "      <td>113</td>\n",
       "      <td>13</td>\n",
       "      <td>501</td>\n",
       "      <td>72</td>\n",
       "      <td>Bad</td>\n",
       "      <td>78</td>\n",
       "      <td>16</td>\n",
       "      <td>No</td>\n",
       "      <td>Yes</td>\n",
       "      <td>high</td>\n",
       "    </tr>\n",
       "  </tbody>\n",
       "</table>\n",
       "</div>"
      ],
      "text/plain": [
       "   Sales  CompPrice  Income  Advertising  Population  Price ShelveLoc  Age  \\\n",
       "0   9.50        138      73           11         276    120       Bad   42   \n",
       "1  11.22        111      48           16         260     83      Good   65   \n",
       "2  10.06        113      35           10         269     80    Medium   59   \n",
       "3   7.40        117     100            4         466     97    Medium   55   \n",
       "4   4.15        141      64            3         340    128       Bad   38   \n",
       "5  10.81        124     113           13         501     72       Bad   78   \n",
       "\n",
       "   Education Urban   US sales_val  \n",
       "0         17   Yes  Yes      high  \n",
       "1         10   Yes  Yes      high  \n",
       "2         12   Yes  Yes      high  \n",
       "3         14   Yes  Yes       low  \n",
       "4         13   Yes   No       low  \n",
       "5         16    No  Yes      high  "
      ]
     },
     "execution_count": 7,
     "metadata": {},
     "output_type": "execute_result"
    }
   ],
   "source": [
    "st.head(6)"
   ]
  },
  {
   "cell_type": "code",
   "execution_count": 8,
   "metadata": {},
   "outputs": [],
   "source": [
    "#dropping the sales column\n",
    "st=st.drop(['Sales'], axis=1)"
   ]
  },
  {
   "cell_type": "code",
   "execution_count": 9,
   "metadata": {},
   "outputs": [
    {
     "data": {
      "text/html": [
       "<div>\n",
       "<style scoped>\n",
       "    .dataframe tbody tr th:only-of-type {\n",
       "        vertical-align: middle;\n",
       "    }\n",
       "\n",
       "    .dataframe tbody tr th {\n",
       "        vertical-align: top;\n",
       "    }\n",
       "\n",
       "    .dataframe thead th {\n",
       "        text-align: right;\n",
       "    }\n",
       "</style>\n",
       "<table border=\"1\" class=\"dataframe\">\n",
       "  <thead>\n",
       "    <tr style=\"text-align: right;\">\n",
       "      <th></th>\n",
       "      <th>CompPrice</th>\n",
       "      <th>Income</th>\n",
       "      <th>Advertising</th>\n",
       "      <th>Population</th>\n",
       "      <th>Price</th>\n",
       "      <th>ShelveLoc</th>\n",
       "      <th>Age</th>\n",
       "      <th>Education</th>\n",
       "      <th>Urban</th>\n",
       "      <th>US</th>\n",
       "      <th>sales_val</th>\n",
       "    </tr>\n",
       "  </thead>\n",
       "  <tbody>\n",
       "    <tr>\n",
       "      <th>0</th>\n",
       "      <td>138</td>\n",
       "      <td>73</td>\n",
       "      <td>11</td>\n",
       "      <td>276</td>\n",
       "      <td>120</td>\n",
       "      <td>Bad</td>\n",
       "      <td>42</td>\n",
       "      <td>17</td>\n",
       "      <td>Yes</td>\n",
       "      <td>Yes</td>\n",
       "      <td>high</td>\n",
       "    </tr>\n",
       "    <tr>\n",
       "      <th>1</th>\n",
       "      <td>111</td>\n",
       "      <td>48</td>\n",
       "      <td>16</td>\n",
       "      <td>260</td>\n",
       "      <td>83</td>\n",
       "      <td>Good</td>\n",
       "      <td>65</td>\n",
       "      <td>10</td>\n",
       "      <td>Yes</td>\n",
       "      <td>Yes</td>\n",
       "      <td>high</td>\n",
       "    </tr>\n",
       "    <tr>\n",
       "      <th>2</th>\n",
       "      <td>113</td>\n",
       "      <td>35</td>\n",
       "      <td>10</td>\n",
       "      <td>269</td>\n",
       "      <td>80</td>\n",
       "      <td>Medium</td>\n",
       "      <td>59</td>\n",
       "      <td>12</td>\n",
       "      <td>Yes</td>\n",
       "      <td>Yes</td>\n",
       "      <td>high</td>\n",
       "    </tr>\n",
       "    <tr>\n",
       "      <th>3</th>\n",
       "      <td>117</td>\n",
       "      <td>100</td>\n",
       "      <td>4</td>\n",
       "      <td>466</td>\n",
       "      <td>97</td>\n",
       "      <td>Medium</td>\n",
       "      <td>55</td>\n",
       "      <td>14</td>\n",
       "      <td>Yes</td>\n",
       "      <td>Yes</td>\n",
       "      <td>low</td>\n",
       "    </tr>\n",
       "  </tbody>\n",
       "</table>\n",
       "</div>"
      ],
      "text/plain": [
       "   CompPrice  Income  Advertising  Population  Price ShelveLoc  Age  \\\n",
       "0        138      73           11         276    120       Bad   42   \n",
       "1        111      48           16         260     83      Good   65   \n",
       "2        113      35           10         269     80    Medium   59   \n",
       "3        117     100            4         466     97    Medium   55   \n",
       "\n",
       "   Education Urban   US sales_val  \n",
       "0         17   Yes  Yes      high  \n",
       "1         10   Yes  Yes      high  \n",
       "2         12   Yes  Yes      high  \n",
       "3         14   Yes  Yes       low  "
      ]
     },
     "execution_count": 9,
     "metadata": {},
     "output_type": "execute_result"
    }
   ],
   "source": [
    "st.head(4)"
   ]
  },
  {
   "cell_type": "code",
   "execution_count": 10,
   "metadata": {},
   "outputs": [
    {
     "data": {
      "text/plain": [
       "CompPrice      0\n",
       "Income         0\n",
       "Advertising    0\n",
       "Population     0\n",
       "Price          0\n",
       "ShelveLoc      0\n",
       "Age            0\n",
       "Education      0\n",
       "Urban          0\n",
       "US             0\n",
       "sales_val      0\n",
       "dtype: int64"
      ]
     },
     "execution_count": 10,
     "metadata": {},
     "output_type": "execute_result"
    }
   ],
   "source": [
    "#checkingb for na values\n",
    "st.isnull().sum()"
   ]
  },
  {
   "cell_type": "code",
   "execution_count": 11,
   "metadata": {},
   "outputs": [
    {
     "data": {
      "text/plain": [
       "Index(['CompPrice', 'Income', 'Advertising', 'Population', 'Price',\n",
       "       'ShelveLoc', 'Age', 'Education', 'Urban', 'US', 'sales_val'],\n",
       "      dtype='object')"
      ]
     },
     "execution_count": 11,
     "metadata": {},
     "output_type": "execute_result"
    }
   ],
   "source": [
    "st.columns"
   ]
  },
  {
   "cell_type": "code",
   "execution_count": 12,
   "metadata": {},
   "outputs": [],
   "source": [
    "#preparing the data\n",
    "X = st.drop('sales_val', axis=1)\n",
    "y = st['sales_val']"
   ]
  },
  {
   "cell_type": "code",
   "execution_count": 13,
   "metadata": {},
   "outputs": [],
   "source": [
    "import category_encoders as ce\n",
    "# encode variables with ordinal encoding\n",
    "\n",
    "encoder = ce.OrdinalEncoder(cols=['ShelveLoc', 'Urban', 'US'])\n",
    "\n",
    "\n",
    "x1 = encoder.fit_transform(X)\n"
   ]
  },
  {
   "cell_type": "code",
   "execution_count": 14,
   "metadata": {},
   "outputs": [
    {
     "data": {
      "text/html": [
       "<div>\n",
       "<style scoped>\n",
       "    .dataframe tbody tr th:only-of-type {\n",
       "        vertical-align: middle;\n",
       "    }\n",
       "\n",
       "    .dataframe tbody tr th {\n",
       "        vertical-align: top;\n",
       "    }\n",
       "\n",
       "    .dataframe thead th {\n",
       "        text-align: right;\n",
       "    }\n",
       "</style>\n",
       "<table border=\"1\" class=\"dataframe\">\n",
       "  <thead>\n",
       "    <tr style=\"text-align: right;\">\n",
       "      <th></th>\n",
       "      <th>CompPrice</th>\n",
       "      <th>Income</th>\n",
       "      <th>Advertising</th>\n",
       "      <th>Population</th>\n",
       "      <th>Price</th>\n",
       "      <th>ShelveLoc</th>\n",
       "      <th>Age</th>\n",
       "      <th>Education</th>\n",
       "      <th>Urban</th>\n",
       "      <th>US</th>\n",
       "    </tr>\n",
       "  </thead>\n",
       "  <tbody>\n",
       "    <tr>\n",
       "      <th>0</th>\n",
       "      <td>138</td>\n",
       "      <td>73</td>\n",
       "      <td>11</td>\n",
       "      <td>276</td>\n",
       "      <td>120</td>\n",
       "      <td>1</td>\n",
       "      <td>42</td>\n",
       "      <td>17</td>\n",
       "      <td>1</td>\n",
       "      <td>1</td>\n",
       "    </tr>\n",
       "    <tr>\n",
       "      <th>1</th>\n",
       "      <td>111</td>\n",
       "      <td>48</td>\n",
       "      <td>16</td>\n",
       "      <td>260</td>\n",
       "      <td>83</td>\n",
       "      <td>2</td>\n",
       "      <td>65</td>\n",
       "      <td>10</td>\n",
       "      <td>1</td>\n",
       "      <td>1</td>\n",
       "    </tr>\n",
       "    <tr>\n",
       "      <th>2</th>\n",
       "      <td>113</td>\n",
       "      <td>35</td>\n",
       "      <td>10</td>\n",
       "      <td>269</td>\n",
       "      <td>80</td>\n",
       "      <td>3</td>\n",
       "      <td>59</td>\n",
       "      <td>12</td>\n",
       "      <td>1</td>\n",
       "      <td>1</td>\n",
       "    </tr>\n",
       "    <tr>\n",
       "      <th>3</th>\n",
       "      <td>117</td>\n",
       "      <td>100</td>\n",
       "      <td>4</td>\n",
       "      <td>466</td>\n",
       "      <td>97</td>\n",
       "      <td>3</td>\n",
       "      <td>55</td>\n",
       "      <td>14</td>\n",
       "      <td>1</td>\n",
       "      <td>1</td>\n",
       "    </tr>\n",
       "    <tr>\n",
       "      <th>4</th>\n",
       "      <td>141</td>\n",
       "      <td>64</td>\n",
       "      <td>3</td>\n",
       "      <td>340</td>\n",
       "      <td>128</td>\n",
       "      <td>1</td>\n",
       "      <td>38</td>\n",
       "      <td>13</td>\n",
       "      <td>1</td>\n",
       "      <td>2</td>\n",
       "    </tr>\n",
       "    <tr>\n",
       "      <th>...</th>\n",
       "      <td>...</td>\n",
       "      <td>...</td>\n",
       "      <td>...</td>\n",
       "      <td>...</td>\n",
       "      <td>...</td>\n",
       "      <td>...</td>\n",
       "      <td>...</td>\n",
       "      <td>...</td>\n",
       "      <td>...</td>\n",
       "      <td>...</td>\n",
       "    </tr>\n",
       "    <tr>\n",
       "      <th>395</th>\n",
       "      <td>138</td>\n",
       "      <td>108</td>\n",
       "      <td>17</td>\n",
       "      <td>203</td>\n",
       "      <td>128</td>\n",
       "      <td>2</td>\n",
       "      <td>33</td>\n",
       "      <td>14</td>\n",
       "      <td>1</td>\n",
       "      <td>1</td>\n",
       "    </tr>\n",
       "    <tr>\n",
       "      <th>396</th>\n",
       "      <td>139</td>\n",
       "      <td>23</td>\n",
       "      <td>3</td>\n",
       "      <td>37</td>\n",
       "      <td>120</td>\n",
       "      <td>3</td>\n",
       "      <td>55</td>\n",
       "      <td>11</td>\n",
       "      <td>2</td>\n",
       "      <td>1</td>\n",
       "    </tr>\n",
       "    <tr>\n",
       "      <th>397</th>\n",
       "      <td>162</td>\n",
       "      <td>26</td>\n",
       "      <td>12</td>\n",
       "      <td>368</td>\n",
       "      <td>159</td>\n",
       "      <td>3</td>\n",
       "      <td>40</td>\n",
       "      <td>18</td>\n",
       "      <td>1</td>\n",
       "      <td>1</td>\n",
       "    </tr>\n",
       "    <tr>\n",
       "      <th>398</th>\n",
       "      <td>100</td>\n",
       "      <td>79</td>\n",
       "      <td>7</td>\n",
       "      <td>284</td>\n",
       "      <td>95</td>\n",
       "      <td>1</td>\n",
       "      <td>50</td>\n",
       "      <td>12</td>\n",
       "      <td>1</td>\n",
       "      <td>1</td>\n",
       "    </tr>\n",
       "    <tr>\n",
       "      <th>399</th>\n",
       "      <td>134</td>\n",
       "      <td>37</td>\n",
       "      <td>0</td>\n",
       "      <td>27</td>\n",
       "      <td>120</td>\n",
       "      <td>2</td>\n",
       "      <td>49</td>\n",
       "      <td>16</td>\n",
       "      <td>1</td>\n",
       "      <td>1</td>\n",
       "    </tr>\n",
       "  </tbody>\n",
       "</table>\n",
       "<p>400 rows × 10 columns</p>\n",
       "</div>"
      ],
      "text/plain": [
       "     CompPrice  Income  Advertising  Population  Price  ShelveLoc  Age  \\\n",
       "0          138      73           11         276    120          1   42   \n",
       "1          111      48           16         260     83          2   65   \n",
       "2          113      35           10         269     80          3   59   \n",
       "3          117     100            4         466     97          3   55   \n",
       "4          141      64            3         340    128          1   38   \n",
       "..         ...     ...          ...         ...    ...        ...  ...   \n",
       "395        138     108           17         203    128          2   33   \n",
       "396        139      23            3          37    120          3   55   \n",
       "397        162      26           12         368    159          3   40   \n",
       "398        100      79            7         284     95          1   50   \n",
       "399        134      37            0          27    120          2   49   \n",
       "\n",
       "     Education  Urban  US  \n",
       "0           17      1   1  \n",
       "1           10      1   1  \n",
       "2           12      1   1  \n",
       "3           14      1   1  \n",
       "4           13      1   2  \n",
       "..         ...    ...  ..  \n",
       "395         14      1   1  \n",
       "396         11      2   1  \n",
       "397         18      1   1  \n",
       "398         12      1   1  \n",
       "399         16      1   1  \n",
       "\n",
       "[400 rows x 10 columns]"
      ]
     },
     "execution_count": 14,
     "metadata": {},
     "output_type": "execute_result"
    }
   ],
   "source": [
    "x1"
   ]
  },
  {
   "cell_type": "code",
   "execution_count": 15,
   "metadata": {},
   "outputs": [],
   "source": [
    "from sklearn.preprocessing import RobustScaler\n",
    "\n",
    "scaler = RobustScaler()\n",
    "\n",
    "x1= scaler.fit_transform(x1)"
   ]
  },
  {
   "cell_type": "code",
   "execution_count": 16,
   "metadata": {},
   "outputs": [],
   "source": [
    "x2 = pd.DataFrame(x1, columns=['CompPrice','Income','Advertising','Population','Price','ShelveLoc','Age','Education','Urban','US'])"
   ]
  },
  {
   "cell_type": "code",
   "execution_count": 17,
   "metadata": {},
   "outputs": [
    {
     "data": {
      "text/html": [
       "<div>\n",
       "<style scoped>\n",
       "    .dataframe tbody tr th:only-of-type {\n",
       "        vertical-align: middle;\n",
       "    }\n",
       "\n",
       "    .dataframe tbody tr th {\n",
       "        vertical-align: top;\n",
       "    }\n",
       "\n",
       "    .dataframe thead th {\n",
       "        text-align: right;\n",
       "    }\n",
       "</style>\n",
       "<table border=\"1\" class=\"dataframe\">\n",
       "  <thead>\n",
       "    <tr style=\"text-align: right;\">\n",
       "      <th></th>\n",
       "      <th>CompPrice</th>\n",
       "      <th>Income</th>\n",
       "      <th>Advertising</th>\n",
       "      <th>Population</th>\n",
       "      <th>Price</th>\n",
       "      <th>ShelveLoc</th>\n",
       "      <th>Age</th>\n",
       "      <th>Education</th>\n",
       "      <th>Urban</th>\n",
       "      <th>US</th>\n",
       "    </tr>\n",
       "  </thead>\n",
       "  <tbody>\n",
       "    <tr>\n",
       "      <th>0</th>\n",
       "      <td>0.65</td>\n",
       "      <td>0.082902</td>\n",
       "      <td>0.500000</td>\n",
       "      <td>0.015414</td>\n",
       "      <td>0.096774</td>\n",
       "      <td>-2.0</td>\n",
       "      <td>-0.476190</td>\n",
       "      <td>0.75</td>\n",
       "      <td>0.0</td>\n",
       "      <td>0.0</td>\n",
       "    </tr>\n",
       "    <tr>\n",
       "      <th>1</th>\n",
       "      <td>-0.70</td>\n",
       "      <td>-0.435233</td>\n",
       "      <td>0.916667</td>\n",
       "      <td>-0.046243</td>\n",
       "      <td>-1.096774</td>\n",
       "      <td>-1.0</td>\n",
       "      <td>0.400000</td>\n",
       "      <td>-1.00</td>\n",
       "      <td>0.0</td>\n",
       "      <td>0.0</td>\n",
       "    </tr>\n",
       "    <tr>\n",
       "      <th>2</th>\n",
       "      <td>-0.60</td>\n",
       "      <td>-0.704663</td>\n",
       "      <td>0.416667</td>\n",
       "      <td>-0.011561</td>\n",
       "      <td>-1.193548</td>\n",
       "      <td>0.0</td>\n",
       "      <td>0.171429</td>\n",
       "      <td>-0.50</td>\n",
       "      <td>0.0</td>\n",
       "      <td>0.0</td>\n",
       "    </tr>\n",
       "    <tr>\n",
       "      <th>3</th>\n",
       "      <td>-0.40</td>\n",
       "      <td>0.642487</td>\n",
       "      <td>-0.083333</td>\n",
       "      <td>0.747592</td>\n",
       "      <td>-0.645161</td>\n",
       "      <td>0.0</td>\n",
       "      <td>0.019048</td>\n",
       "      <td>0.00</td>\n",
       "      <td>0.0</td>\n",
       "      <td>0.0</td>\n",
       "    </tr>\n",
       "    <tr>\n",
       "      <th>4</th>\n",
       "      <td>0.80</td>\n",
       "      <td>-0.103627</td>\n",
       "      <td>-0.166667</td>\n",
       "      <td>0.262042</td>\n",
       "      <td>0.354839</td>\n",
       "      <td>-2.0</td>\n",
       "      <td>-0.628571</td>\n",
       "      <td>-0.25</td>\n",
       "      <td>0.0</td>\n",
       "      <td>1.0</td>\n",
       "    </tr>\n",
       "    <tr>\n",
       "      <th>...</th>\n",
       "      <td>...</td>\n",
       "      <td>...</td>\n",
       "      <td>...</td>\n",
       "      <td>...</td>\n",
       "      <td>...</td>\n",
       "      <td>...</td>\n",
       "      <td>...</td>\n",
       "      <td>...</td>\n",
       "      <td>...</td>\n",
       "      <td>...</td>\n",
       "    </tr>\n",
       "    <tr>\n",
       "      <th>395</th>\n",
       "      <td>0.65</td>\n",
       "      <td>0.808290</td>\n",
       "      <td>1.000000</td>\n",
       "      <td>-0.265896</td>\n",
       "      <td>0.354839</td>\n",
       "      <td>-1.0</td>\n",
       "      <td>-0.819048</td>\n",
       "      <td>0.00</td>\n",
       "      <td>0.0</td>\n",
       "      <td>0.0</td>\n",
       "    </tr>\n",
       "    <tr>\n",
       "      <th>396</th>\n",
       "      <td>0.70</td>\n",
       "      <td>-0.953368</td>\n",
       "      <td>-0.166667</td>\n",
       "      <td>-0.905588</td>\n",
       "      <td>0.096774</td>\n",
       "      <td>0.0</td>\n",
       "      <td>0.019048</td>\n",
       "      <td>-0.75</td>\n",
       "      <td>1.0</td>\n",
       "      <td>0.0</td>\n",
       "    </tr>\n",
       "    <tr>\n",
       "      <th>397</th>\n",
       "      <td>1.85</td>\n",
       "      <td>-0.891192</td>\n",
       "      <td>0.583333</td>\n",
       "      <td>0.369942</td>\n",
       "      <td>1.354839</td>\n",
       "      <td>0.0</td>\n",
       "      <td>-0.552381</td>\n",
       "      <td>1.00</td>\n",
       "      <td>0.0</td>\n",
       "      <td>0.0</td>\n",
       "    </tr>\n",
       "    <tr>\n",
       "      <th>398</th>\n",
       "      <td>-1.25</td>\n",
       "      <td>0.207254</td>\n",
       "      <td>0.166667</td>\n",
       "      <td>0.046243</td>\n",
       "      <td>-0.709677</td>\n",
       "      <td>-2.0</td>\n",
       "      <td>-0.171429</td>\n",
       "      <td>-0.50</td>\n",
       "      <td>0.0</td>\n",
       "      <td>0.0</td>\n",
       "    </tr>\n",
       "    <tr>\n",
       "      <th>399</th>\n",
       "      <td>0.45</td>\n",
       "      <td>-0.663212</td>\n",
       "      <td>-0.416667</td>\n",
       "      <td>-0.944123</td>\n",
       "      <td>0.096774</td>\n",
       "      <td>-1.0</td>\n",
       "      <td>-0.209524</td>\n",
       "      <td>0.50</td>\n",
       "      <td>0.0</td>\n",
       "      <td>0.0</td>\n",
       "    </tr>\n",
       "  </tbody>\n",
       "</table>\n",
       "<p>400 rows × 10 columns</p>\n",
       "</div>"
      ],
      "text/plain": [
       "     CompPrice    Income  Advertising  Population     Price  ShelveLoc  \\\n",
       "0         0.65  0.082902     0.500000    0.015414  0.096774       -2.0   \n",
       "1        -0.70 -0.435233     0.916667   -0.046243 -1.096774       -1.0   \n",
       "2        -0.60 -0.704663     0.416667   -0.011561 -1.193548        0.0   \n",
       "3        -0.40  0.642487    -0.083333    0.747592 -0.645161        0.0   \n",
       "4         0.80 -0.103627    -0.166667    0.262042  0.354839       -2.0   \n",
       "..         ...       ...          ...         ...       ...        ...   \n",
       "395       0.65  0.808290     1.000000   -0.265896  0.354839       -1.0   \n",
       "396       0.70 -0.953368    -0.166667   -0.905588  0.096774        0.0   \n",
       "397       1.85 -0.891192     0.583333    0.369942  1.354839        0.0   \n",
       "398      -1.25  0.207254     0.166667    0.046243 -0.709677       -2.0   \n",
       "399       0.45 -0.663212    -0.416667   -0.944123  0.096774       -1.0   \n",
       "\n",
       "          Age  Education  Urban   US  \n",
       "0   -0.476190       0.75    0.0  0.0  \n",
       "1    0.400000      -1.00    0.0  0.0  \n",
       "2    0.171429      -0.50    0.0  0.0  \n",
       "3    0.019048       0.00    0.0  0.0  \n",
       "4   -0.628571      -0.25    0.0  1.0  \n",
       "..        ...        ...    ...  ...  \n",
       "395 -0.819048       0.00    0.0  0.0  \n",
       "396  0.019048      -0.75    1.0  0.0  \n",
       "397 -0.552381       1.00    0.0  0.0  \n",
       "398 -0.171429      -0.50    0.0  0.0  \n",
       "399 -0.209524       0.50    0.0  0.0  \n",
       "\n",
       "[400 rows x 10 columns]"
      ]
     },
     "execution_count": 17,
     "metadata": {},
     "output_type": "execute_result"
    }
   ],
   "source": [
    "x2"
   ]
  },
  {
   "cell_type": "code",
   "execution_count": 18,
   "metadata": {},
   "outputs": [],
   "source": [
    "#Splitting the data into train and test data\n",
    "from sklearn.model_selection import train_test_split\n",
    "x2_train, x2_test, y_train, y_test = train_test_split(x2, y, test_size=0.2, random_state=42)\n"
   ]
  },
  {
   "cell_type": "code",
   "execution_count": 19,
   "metadata": {},
   "outputs": [],
   "source": [
    "#Decision tree classifier with gini index\n",
    "from sklearn.tree import DecisionTreeClassifier"
   ]
  },
  {
   "cell_type": "code",
   "execution_count": 20,
   "metadata": {},
   "outputs": [
    {
     "data": {
      "text/plain": [
       "DecisionTreeClassifier(max_depth=6, random_state=0)"
      ]
     },
     "execution_count": 20,
     "metadata": {},
     "output_type": "execute_result"
    }
   ],
   "source": [
    "clf_gini = DecisionTreeClassifier(criterion='gini', max_depth=6, random_state=0)\n",
    "\n",
    "\n",
    "# fit the model\n",
    "clf_gini.fit(x2_train, y_train)"
   ]
  },
  {
   "cell_type": "code",
   "execution_count": 21,
   "metadata": {},
   "outputs": [],
   "source": [
    "y_pred = clf_gini.predict(x2_test)"
   ]
  },
  {
   "cell_type": "code",
   "execution_count": 22,
   "metadata": {},
   "outputs": [
    {
     "name": "stdout",
     "output_type": "stream",
     "text": [
      "Model accuracy score with criterion gini index: 0.7375\n"
     ]
    }
   ],
   "source": [
    "#Accuracy check for test\n",
    "from sklearn.metrics import accuracy_score\n",
    "\n",
    "print('Model accuracy score with criterion gini index: {0:0.4f}'. format(accuracy_score(y_test, y_pred)))"
   ]
  },
  {
   "cell_type": "code",
   "execution_count": 23,
   "metadata": {},
   "outputs": [],
   "source": [
    "#comparing the train and test accuracy\n",
    "y_pred_train = clf_gini.predict(x2_train)\n"
   ]
  },
  {
   "cell_type": "code",
   "execution_count": 24,
   "metadata": {},
   "outputs": [
    {
     "name": "stdout",
     "output_type": "stream",
     "text": [
      "Training accuracy score: 0.8969\n"
     ]
    }
   ],
   "source": [
    "print('Training accuracy score: {0:0.4f}'. format(accuracy_score(y_train, y_pred_train)))"
   ]
  },
  {
   "cell_type": "code",
   "execution_count": 25,
   "metadata": {},
   "outputs": [
    {
     "name": "stdout",
     "output_type": "stream",
     "text": [
      "Training score: 0.8969\n",
      "Test score: 0.7375\n"
     ]
    }
   ],
   "source": [
    "#checking for under and overfitting\n",
    "print('Training score: {:.4f}'.format(clf_gini.score(x2_train, y_train)))\n",
    "\n",
    "print('Test score: {:.4f}'.format(clf_gini.score(x2_test, y_test)))\n",
    "#both the values are similar there exists overfitting in the data"
   ]
  },
  {
   "cell_type": "code",
   "execution_count": 26,
   "metadata": {},
   "outputs": [
    {
     "data": {
      "text/plain": [
       "[Text(395.25, 504.7714285714286, 'X[4] <= -0.79\\ngini = 0.5\\nsamples = 320\\nvalue = [162, 158]'),\n",
       " Text(186.0, 427.11428571428576, 'X[5] <= -1.5\\ngini = 0.124\\nsamples = 45\\nvalue = [42, 3]'),\n",
       " Text(139.5, 349.4571428571429, 'X[3] <= -0.013\\ngini = 0.375\\nsamples = 12\\nvalue = [9, 3]'),\n",
       " Text(93.0, 271.8, 'X[3] <= -0.642\\ngini = 0.48\\nsamples = 5\\nvalue = [2, 3]'),\n",
       " Text(46.5, 194.14285714285717, 'gini = 0.0\\nsamples = 2\\nvalue = [2, 0]'),\n",
       " Text(139.5, 194.14285714285717, 'gini = 0.0\\nsamples = 3\\nvalue = [0, 3]'),\n",
       " Text(186.0, 271.8, 'gini = 0.0\\nsamples = 7\\nvalue = [7, 0]'),\n",
       " Text(232.5, 349.4571428571429, 'gini = 0.0\\nsamples = 33\\nvalue = [33, 0]'),\n",
       " Text(604.5, 427.11428571428576, 'X[5] <= -1.5\\ngini = 0.492\\nsamples = 275\\nvalue = [120, 155]'),\n",
       " Text(372.0, 349.4571428571429, 'X[0] <= 1.3\\ngini = 0.281\\nsamples = 65\\nvalue = [11, 54]'),\n",
       " Text(325.5, 271.8, 'X[2] <= 0.875\\ngini = 0.225\\nsamples = 62\\nvalue = [8, 54]'),\n",
       " Text(232.5, 194.14285714285717, 'X[4] <= -0.468\\ngini = 0.158\\nsamples = 58\\nvalue = [5, 53]'),\n",
       " Text(186.0, 116.48571428571432, 'X[1] <= 0.528\\ngini = 0.473\\nsamples = 13\\nvalue = [5, 8]'),\n",
       " Text(139.5, 38.82857142857142, 'gini = 0.198\\nsamples = 9\\nvalue = [1, 8]'),\n",
       " Text(232.5, 38.82857142857142, 'gini = 0.0\\nsamples = 4\\nvalue = [4, 0]'),\n",
       " Text(279.0, 116.48571428571432, 'gini = 0.0\\nsamples = 45\\nvalue = [0, 45]'),\n",
       " Text(418.5, 194.14285714285717, 'X[6] <= 0.248\\ngini = 0.375\\nsamples = 4\\nvalue = [3, 1]'),\n",
       " Text(372.0, 116.48571428571432, 'gini = 0.0\\nsamples = 3\\nvalue = [3, 0]'),\n",
       " Text(465.0, 116.48571428571432, 'gini = 0.0\\nsamples = 1\\nvalue = [0, 1]'),\n",
       " Text(418.5, 271.8, 'gini = 0.0\\nsamples = 3\\nvalue = [3, 0]'),\n",
       " Text(837.0, 349.4571428571429, 'X[5] <= -0.5\\ngini = 0.499\\nsamples = 210\\nvalue = [109, 101]'),\n",
       " Text(651.0, 271.8, 'X[4] <= 1.323\\ngini = 0.334\\nsamples = 52\\nvalue = [41, 11]'),\n",
       " Text(604.5, 194.14285714285717, 'X[6] <= 0.857\\ngini = 0.249\\nsamples = 48\\nvalue = [41, 7]'),\n",
       " Text(558.0, 116.48571428571432, 'X[0] <= -1.175\\ngini = 0.194\\nsamples = 46\\nvalue = [41, 5]'),\n",
       " Text(511.5, 38.82857142857142, 'gini = 0.0\\nsamples = 1\\nvalue = [0, 1]'),\n",
       " Text(604.5, 38.82857142857142, 'gini = 0.162\\nsamples = 45\\nvalue = [41, 4]'),\n",
       " Text(651.0, 116.48571428571432, 'gini = 0.0\\nsamples = 2\\nvalue = [0, 2]'),\n",
       " Text(697.5, 194.14285714285717, 'gini = 0.0\\nsamples = 4\\nvalue = [0, 4]'),\n",
       " Text(1023.0, 271.8, 'X[6] <= -0.19\\ngini = 0.49\\nsamples = 158\\nvalue = [68, 90]'),\n",
       " Text(837.0, 194.14285714285717, 'X[4] <= 0.242\\ngini = 0.441\\nsamples = 64\\nvalue = [43, 21]'),\n",
       " Text(744.0, 116.48571428571432, 'X[0] <= -0.6\\ngini = 0.266\\nsamples = 38\\nvalue = [32, 6]'),\n",
       " Text(697.5, 38.82857142857142, 'gini = 0.49\\nsamples = 7\\nvalue = [3, 4]'),\n",
       " Text(790.5, 38.82857142857142, 'gini = 0.121\\nsamples = 31\\nvalue = [29, 2]'),\n",
       " Text(930.0, 116.48571428571432, 'X[0] <= 0.475\\ngini = 0.488\\nsamples = 26\\nvalue = [11, 15]'),\n",
       " Text(883.5, 38.82857142857142, 'gini = 0.278\\nsamples = 12\\nvalue = [2, 10]'),\n",
       " Text(976.5, 38.82857142857142, 'gini = 0.459\\nsamples = 14\\nvalue = [9, 5]'),\n",
       " Text(1209.0, 194.14285714285717, 'X[4] <= 0.323\\ngini = 0.39\\nsamples = 94\\nvalue = [25, 69]'),\n",
       " Text(1116.0, 116.48571428571432, 'X[0] <= -0.1\\ngini = 0.467\\nsamples = 62\\nvalue = [23, 39]'),\n",
       " Text(1069.5, 38.82857142857142, 'gini = 0.251\\nsamples = 34\\nvalue = [5, 29]'),\n",
       " Text(1162.5, 38.82857142857142, 'gini = 0.459\\nsamples = 28\\nvalue = [18, 10]'),\n",
       " Text(1302.0, 116.48571428571432, 'X[2] <= 1.583\\ngini = 0.117\\nsamples = 32\\nvalue = [2, 30]'),\n",
       " Text(1255.5, 38.82857142857142, 'gini = 0.062\\nsamples = 31\\nvalue = [1, 30]'),\n",
       " Text(1348.5, 38.82857142857142, 'gini = 0.0\\nsamples = 1\\nvalue = [1, 0]')]"
      ]
     },
     "execution_count": 26,
     "metadata": {},
     "output_type": "execute_result"
    },
    {
     "data": {
      "image/png": "[encoded data removed]",
      "text/plain": [
       "<Figure size 1800x720 with 1 Axes>"
      ]
     },
     "metadata": {
      "needs_background": "light"
     },
     "output_type": "display_data"
    }
   ],
   "source": [
    "#visualize the decision tree\n",
    "plt.figure(figsize=(25,10))\n",
    "\n",
    "from sklearn import tree\n",
    "\n",
    "tree.plot_tree(clf_gini.fit(x2_train, y_train))"
   ]
  },
  {
   "cell_type": "code",
   "execution_count": 27,
   "metadata": {},
   "outputs": [
    {
     "data": {
      "text/plain": [
       "DecisionTreeClassifier(criterion='entropy', max_depth=6, random_state=0)"
      ]
     },
     "execution_count": 27,
     "metadata": {},
     "output_type": "execute_result"
    }
   ],
   "source": [
    "#Decision tree classifier using criterion classifier\n",
    "en = DecisionTreeClassifier(criterion='entropy', max_depth=6, random_state=0)\n",
    "\n",
    "\n",
    "# fit the model\n",
    "en.fit(x2_train, y_train)"
   ]
  },
  {
   "cell_type": "code",
   "execution_count": 28,
   "metadata": {},
   "outputs": [],
   "source": [
    "#test prediction\n",
    "y_pred_en = en.predict(x2_test)"
   ]
  },
  {
   "cell_type": "code",
   "execution_count": 29,
   "metadata": {},
   "outputs": [
    {
     "name": "stdout",
     "output_type": "stream",
     "text": [
      "Test accuracy : 0.6875\n"
     ]
    }
   ],
   "source": [
    "from sklearn.metrics import accuracy_score\n",
    "\n",
    "print('Test accuracy : {0:0.4f}'. format(accuracy_score(y_test, y_pred_en)))\n"
   ]
  },
  {
   "cell_type": "code",
   "execution_count": 30,
   "metadata": {},
   "outputs": [],
   "source": [
    "y_pred_train_en = en.predict(x2_train)\n",
    "#train prediction"
   ]
  },
  {
   "cell_type": "code",
   "execution_count": 31,
   "metadata": {},
   "outputs": [
    {
     "name": "stdout",
     "output_type": "stream",
     "text": [
      "Training accuracy score: 0.8906\n"
     ]
    }
   ],
   "source": [
    "print('Training accuracy score: {0:0.4f}'. format(accuracy_score(y_train, y_pred_train_en)))"
   ]
  },
  {
   "cell_type": "code",
   "execution_count": 32,
   "metadata": {},
   "outputs": [
    {
     "data": {
      "text/plain": [
       "[Text(233.771484375, 504.7714285714286, 'X[4] <= -0.79\\nentropy = 1.0\\nsamples = 320\\nvalue = [162, 158]'),\n",
       " Text(104.625, 427.11428571428576, 'X[5] <= -1.5\\nentropy = 0.353\\nsamples = 45\\nvalue = [42, 3]'),\n",
       " Text(78.46875, 349.4571428571429, 'X[3] <= -0.013\\nentropy = 0.811\\nsamples = 12\\nvalue = [9, 3]'),\n",
       " Text(52.3125, 271.8, 'X[3] <= -0.642\\nentropy = 0.971\\nsamples = 5\\nvalue = [2, 3]'),\n",
       " Text(26.15625, 194.14285714285717, 'entropy = 0.0\\nsamples = 2\\nvalue = [2, 0]'),\n",
       " Text(78.46875, 194.14285714285717, 'entropy = 0.0\\nsamples = 3\\nvalue = [0, 3]'),\n",
       " Text(104.625, 271.8, 'entropy = 0.0\\nsamples = 7\\nvalue = [7, 0]'),\n",
       " Text(130.78125, 349.4571428571429, 'entropy = 0.0\\nsamples = 33\\nvalue = [33, 0]'),\n",
       " Text(362.91796875, 427.11428571428576, 'X[5] <= -1.5\\nentropy = 0.988\\nsamples = 275\\nvalue = [120, 155]'),\n",
       " Text(209.25, 349.4571428571429, 'X[0] <= 1.3\\nentropy = 0.656\\nsamples = 65\\nvalue = [11, 54]'),\n",
       " Text(183.09375, 271.8, 'X[1] <= 0.58\\nentropy = 0.555\\nsamples = 62\\nvalue = [8, 54]'),\n",
       " Text(130.78125, 194.14285714285717, 'X[2] <= 1.25\\nentropy = 0.258\\nsamples = 46\\nvalue = [2, 44]'),\n",
       " Text(104.625, 116.48571428571432, 'X[7] <= -0.875\\nentropy = 0.154\\nsamples = 45\\nvalue = [1, 44]'),\n",
       " Text(78.46875, 38.82857142857142, 'entropy = 0.918\\nsamples = 3\\nvalue = [1, 2]'),\n",
       " Text(130.78125, 38.82857142857142, 'entropy = 0.0\\nsamples = 42\\nvalue = [0, 42]'),\n",
       " Text(156.9375, 116.48571428571432, 'entropy = 0.0\\nsamples = 1\\nvalue = [1, 0]'),\n",
       " Text(235.40625, 194.14285714285717, 'X[4] <= -0.403\\nentropy = 0.954\\nsamples = 16\\nvalue = [6, 10]'),\n",
       " Text(209.25, 116.48571428571432, 'entropy = 0.0\\nsamples = 4\\nvalue = [4, 0]'),\n",
       " Text(261.5625, 116.48571428571432, 'X[2] <= 0.875\\nentropy = 0.65\\nsamples = 12\\nvalue = [2, 10]'),\n",
       " Text(235.40625, 38.82857142857142, 'entropy = 0.0\\nsamples = 10\\nvalue = [0, 10]'),\n",
       " Text(287.71875, 38.82857142857142, 'entropy = 0.0\\nsamples = 2\\nvalue = [2, 0]'),\n",
       " Text(235.40625, 271.8, 'entropy = 0.0\\nsamples = 3\\nvalue = [3, 0]'),\n",
       " Text(516.5859375, 349.4571428571429, 'X[5] <= -0.5\\nentropy = 0.999\\nsamples = 210\\nvalue = [109, 101]'),\n",
       " Text(392.34375, 271.8, 'X[4] <= 0.5\\nentropy = 0.744\\nsamples = 52\\nvalue = [41, 11]'),\n",
       " Text(340.03125, 194.14285714285717, 'X[0] <= -1.175\\nentropy = 0.316\\nsamples = 35\\nvalue = [33, 2]'),\n",
       " Text(313.875, 116.48571428571432, 'entropy = 0.0\\nsamples = 1\\nvalue = [0, 1]'),\n",
       " Text(366.1875, 116.48571428571432, 'X[1] <= 0.57\\nentropy = 0.191\\nsamples = 34\\nvalue = [33, 1]'),\n",
       " Text(340.03125, 38.82857142857142, 'entropy = 0.0\\nsamples = 29\\nvalue = [29, 0]'),\n",
       " Text(392.34375, 38.82857142857142, 'entropy = 0.722\\nsamples = 5\\nvalue = [4, 1]'),\n",
       " Text(444.65625, 194.14285714285717, 'X[1] <= -0.746\\nentropy = 0.998\\nsamples = 17\\nvalue = [8, 9]'),\n",
       " Text(418.5, 116.48571428571432, 'entropy = 0.0\\nsamples = 5\\nvalue = [0, 5]'),\n",
       " Text(470.8125, 116.48571428571432, 'X[6] <= 0.705\\nentropy = 0.918\\nsamples = 12\\nvalue = [8, 4]'),\n",
       " Text(444.65625, 38.82857142857142, 'entropy = 0.722\\nsamples = 10\\nvalue = [8, 2]'),\n",
       " Text(496.96875, 38.82857142857142, 'entropy = 0.0\\nsamples = 2\\nvalue = [0, 2]'),\n",
       " Text(640.828125, 271.8, 'X[6] <= -0.19\\nentropy = 0.986\\nsamples = 158\\nvalue = [68, 90]'),\n",
       " Text(549.28125, 194.14285714285717, 'X[4] <= -0.355\\nentropy = 0.913\\nsamples = 64\\nvalue = [43, 21]'),\n",
       " Text(523.125, 116.48571428571432, 'entropy = 0.0\\nsamples = 15\\nvalue = [15, 0]'),\n",
       " Text(575.4375, 116.48571428571432, 'X[0] <= -0.525\\nentropy = 0.985\\nsamples = 49\\nvalue = [28, 21]'),\n",
       " Text(549.28125, 38.82857142857142, 'entropy = 0.0\\nsamples = 7\\nvalue = [0, 7]'),\n",
       " Text(601.59375, 38.82857142857142, 'entropy = 0.918\\nsamples = 42\\nvalue = [28, 14]'),\n",
       " Text(732.375, 194.14285714285717, 'X[4] <= 0.323\\nentropy = 0.836\\nsamples = 94\\nvalue = [25, 69]'),\n",
       " Text(680.0625, 116.48571428571432, 'X[0] <= -0.1\\nentropy = 0.951\\nsamples = 62\\nvalue = [23, 39]'),\n",
       " Text(653.90625, 38.82857142857142, 'entropy = 0.602\\nsamples = 34\\nvalue = [5, 29]'),\n",
       " Text(706.21875, 38.82857142857142, 'entropy = 0.94\\nsamples = 28\\nvalue = [18, 10]'),\n",
       " Text(784.6875, 116.48571428571432, 'X[0] <= 1.2\\nentropy = 0.337\\nsamples = 32\\nvalue = [2, 30]'),\n",
       " Text(758.53125, 38.82857142857142, 'entropy = 0.0\\nsamples = 27\\nvalue = [0, 27]'),\n",
       " Text(810.84375, 38.82857142857142, 'entropy = 0.971\\nsamples = 5\\nvalue = [2, 3]')]"
      ]
     },
     "execution_count": 32,
     "metadata": {},
     "output_type": "execute_result"
    },
    {
     "data": {
      "image/png": "[encoded data removed]",
      "text/plain": [
       "<Figure size 1080x720 with 1 Axes>"
      ]
     },
     "metadata": {
      "needs_background": "light"
     },
     "output_type": "display_data"
    }
   ],
   "source": [
    "#visulizie the decision tree with criteron entropy\n",
    "plt.figure(figsize=(15,10))\n",
    "\n",
    "from sklearn import tree\n",
    "\n",
    "tree.plot_tree(en.fit(x2_train, y_train)) "
   ]
  },
  {
   "cell_type": "code",
   "execution_count": 33,
   "metadata": {},
   "outputs": [
    {
     "name": "stdout",
     "output_type": "stream",
     "text": [
      "Confusion Matrix:\n",
      "\n",
      "  [[35  9]\n",
      " [16 20]]\n"
     ]
    }
   ],
   "source": [
    "#Confusion Matrix\n",
    "from sklearn.metrics import confusion_matrix\n",
    "print(\"Confusion Matrix:\\n\\n \", confusion_matrix(y_test, y_pred_en))"
   ]
  },
  {
   "cell_type": "code",
   "execution_count": 34,
   "metadata": {},
   "outputs": [
    {
     "name": "stdout",
     "output_type": "stream",
     "text": [
      "Report:\n",
      "               precision    recall  f1-score   support\n",
      "\n",
      "        high       0.69      0.80      0.74        44\n",
      "         low       0.69      0.56      0.62        36\n",
      "\n",
      "    accuracy                           0.69        80\n",
      "   macro avg       0.69      0.68      0.68        80\n",
      "weighted avg       0.69      0.69      0.68        80\n",
      "\n"
     ]
    }
   ],
   "source": [
    "#Classification report\n",
    "from sklearn.metrics import classification_report\n",
    "print(\"Report:\\n\", classification_report(y_test, y_pred_en))\n"
   ]
  },
  {
   "cell_type": "code",
   "execution_count": 35,
   "metadata": {},
   "outputs": [],
   "source": [
    "#feature engineering\n",
    "\n",
    "x2_train_fe=x2_train.drop(['Advertising', 'Population','Education','Income','ShelveLoc'],axis=1)\n",
    "x2_test_fe=x2_test.drop(['Advertising', 'Population','Education','Income','ShelveLoc'],axis=1)"
   ]
  },
  {
   "cell_type": "code",
   "execution_count": 36,
   "metadata": {},
   "outputs": [
    {
     "data": {
      "text/plain": [
       "DecisionTreeClassifier(max_depth=6, random_state=0)"
      ]
     },
     "execution_count": 36,
     "metadata": {},
     "output_type": "execute_result"
    }
   ],
   "source": [
    "#DecisionTreeClassifier model with criterion gini index\n",
    "\n",
    "clf_gini_fe = DecisionTreeClassifier(criterion='gini', max_depth=6, random_state=0)\n",
    "\n",
    "\n",
    "# fit the model\n",
    "clf_gini_fe.fit(x2_train_fe, y_train)"
   ]
  },
  {
   "cell_type": "code",
   "execution_count": 37,
   "metadata": {},
   "outputs": [],
   "source": [
    "y_pred_train_fe = clf_gini_fe.predict(x2_train_fe)"
   ]
  },
  {
   "cell_type": "code",
   "execution_count": 38,
   "metadata": {},
   "outputs": [],
   "source": [
    "y_pred_test_fe = clf_gini_fe.predict(x2_test_fe)"
   ]
  },
  {
   "cell_type": "code",
   "execution_count": 39,
   "metadata": {},
   "outputs": [
    {
     "name": "stdout",
     "output_type": "stream",
     "text": [
      "Training set score: 0.8125\n",
      "Test set score: 0.7125\n"
     ]
    }
   ],
   "source": [
    "print('Training set score: {:.4f}'.format(clf_gini_fe.score(x2_train_fe, y_train)))\n",
    "\n",
    "print('Test set score: {:.4f}'.format(clf_gini_fe.score(x2_test_fe, y_test)))"
   ]
  },
  {
   "cell_type": "code",
   "execution_count": 40,
   "metadata": {},
   "outputs": [
    {
     "data": {
      "text/plain": [
       "DecisionTreeClassifier(criterion='entropy', max_depth=6, random_state=0)"
      ]
     },
     "execution_count": 40,
     "metadata": {},
     "output_type": "execute_result"
    }
   ],
   "source": [
    "#DecisionTreeClassifier with entropy \n",
    "\n",
    "clf_en_fe = DecisionTreeClassifier(criterion='entropy', max_depth=6, random_state=0)\n",
    "\n",
    "\n",
    "# fit the model\n",
    "clf_en_fe.fit(x2_train_fe, y_train)"
   ]
  },
  {
   "cell_type": "code",
   "execution_count": 41,
   "metadata": {},
   "outputs": [],
   "source": [
    "y_pred_train_en_fe = clf_en_fe.predict(x2_train_fe)"
   ]
  },
  {
   "cell_type": "code",
   "execution_count": 42,
   "metadata": {},
   "outputs": [],
   "source": [
    "y_pred_test_en_fe = clf_en_fe.predict(x2_test_fe)"
   ]
  },
  {
   "cell_type": "code",
   "execution_count": 43,
   "metadata": {},
   "outputs": [
    {
     "name": "stdout",
     "output_type": "stream",
     "text": [
      "Training data: 0.8031\n",
      "Test data: 0.6500\n"
     ]
    }
   ],
   "source": [
    "print('Training data: {:.4f}'.format(clf_en_fe.score(x2_train_fe, y_train)))\n",
    "\n",
    "print('Test data: {:.4f}'.format(clf_en_fe.score(x2_test_fe, y_test)))"
   ]
  },
  {
   "cell_type": "code",
   "execution_count": 44,
   "metadata": {},
   "outputs": [],
   "source": [
    "#XGB boosting technique\n",
    "import xgboost as xgb\n",
    "import pandas as pd\n"
   ]
  },
  {
   "cell_type": "code",
   "execution_count": 45,
   "metadata": {},
   "outputs": [],
   "source": [
    "x3_train=x2_train\n",
    "x3_test=x2_test\n",
    "y1_test=y_test\n",
    "y1_train=y_train"
   ]
  },
  {
   "cell_type": "code",
   "execution_count": 46,
   "metadata": {},
   "outputs": [],
   "source": [
    "### Preparing XGB classifier \n",
    "xgb1 = xgb.XGBClassifier(objective ='reg:logistic', learning_rate = 0.1,\n",
    "                max_depth = 5, n_estimators = 20)\n",
    "xgb1.fit(x3_train,y1_train)\n",
    "train_pred_xgb = xgb1.predict(x3_train)"
   ]
  },
  {
   "cell_type": "code",
   "execution_count": 47,
   "metadata": {},
   "outputs": [
    {
     "name": "stdout",
     "output_type": "stream",
     "text": [
      "0.9625\n"
     ]
    }
   ],
   "source": [
    "import numpy as np\n",
    "accuracy_train_data = np.mean(train_pred_xgb==y1_train) \n",
    "print(accuracy_train_data)"
   ]
  },
  {
   "cell_type": "code",
   "execution_count": 48,
   "metadata": {},
   "outputs": [],
   "source": [
    "test_pred_xgb=xgb1.predict(x3_test)"
   ]
  },
  {
   "cell_type": "code",
   "execution_count": 49,
   "metadata": {},
   "outputs": [
    {
     "name": "stdout",
     "output_type": "stream",
     "text": [
      "0.7375\n"
     ]
    }
   ],
   "source": [
    "accuracy_test_data=np.mean(test_pred_xgb==y1_test)\n",
    "print(accuracy_test_data)"
   ]
  },
  {
   "cell_type": "code",
   "execution_count": 50,
   "metadata": {},
   "outputs": [
    {
     "data": {
      "text/plain": [
       "<matplotlib.axes._subplots.AxesSubplot at 0x21c3a58e888>"
      ]
     },
     "execution_count": 50,
     "metadata": {},
     "output_type": "execute_result"
    },
    {
     "data": {
      "image/png": "[encoded data removed]",
      "text/plain": [
       "<Figure size 432x288 with 1 Axes>"
      ]
     },
     "metadata": {
      "needs_background": "light"
     },
     "output_type": "display_data"
    }
   ],
   "source": [
    "# Variable importance plot \n",
    "from xgboost import plot_importance\n",
    "plot_importance(xgb1)"
   ]
  },
  {
   "cell_type": "code",
   "execution_count": 51,
   "metadata": {},
   "outputs": [],
   "source": [
    "#Xgb boosting with feature selection data\n",
    "### Preparing XGB classifier \n",
    "xgb1_fe = xgb.XGBClassifier(n_estimators=30,learning_rate=0.3)\n",
    "xgb1.fit(x2_train,y1_train)\n",
    "fe_train_pred = xgb1.predict(x2_train)"
   ]
  },
  {
   "cell_type": "code",
   "execution_count": 53,
   "metadata": {},
   "outputs": [
    {
     "name": "stdout",
     "output_type": "stream",
     "text": [
      "0.9625\n"
     ]
    }
   ],
   "source": [
    "import numpy as np\n",
    "train_acc = np.mean(fe_train_pred==y1_train) \n",
    "print(train_acc)"
   ]
  },
  {
   "cell_type": "code",
   "execution_count": 56,
   "metadata": {},
   "outputs": [],
   "source": [
    "test_pred = xgb1.predict(x2_test)"
   ]
  },
  {
   "cell_type": "code",
   "execution_count": 57,
   "metadata": {},
   "outputs": [
    {
     "name": "stdout",
     "output_type": "stream",
     "text": [
      "0.7375\n"
     ]
    }
   ],
   "source": [
    "test_acc = np.mean(test_pred==y1_test)\n",
    "print(test_acc) #73.75"
   ]
  },
  {
   "cell_type": "code",
   "execution_count": null,
   "metadata": {},
   "outputs": [],
   "source": []
  },
  {
   "cell_type": "code",
   "execution_count": null,
   "metadata": {},
   "outputs": [],
   "source": []
  }
 ],
 "metadata": {
  "kernelspec": {
   "display_name": "Python 3",
   "language": "python",
   "name": "python3"
  },
  "language_info": {
   "codemirror_mode": {
    "name": "ipython",
    "version": 3
   },
   "file_extension": ".py",
   "mimetype": "text/x-python",
   "name": "python",
   "nbconvert_exporter": "python",
   "pygments_lexer": "ipython3",
   "version": "3.7.7"
  }
 },
 "nbformat": 4,
 "nbformat_minor": 4
}
